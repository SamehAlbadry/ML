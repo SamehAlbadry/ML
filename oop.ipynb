{
  "nbformat": 4,
  "nbformat_minor": 0,
  "metadata": {
    "colab": {
      "provenance": []
    },
    "kernelspec": {
      "name": "python3",
      "display_name": "Python 3"
    },
    "language_info": {
      "name": "python"
    }
  },
  "cells": [
    {
      "cell_type": "code",
      "execution_count": null,
      "metadata": {
        "id": "24beb8ee",
        "outputId": "2da6e097-84a2-417a-8414-5b0339652ce7"
      },
      "outputs": [
        {
          "name": "stdout",
          "output_type": "stream",
          "text": [
            "color of BMW car before edit =   red\n",
            "###################################################\n",
            "color of BMW car before edit =   black\n",
            "###################################################\n",
            "color of BMW car in object copy2 =   red\n"
          ]
        }
      ],
      "source": [
        "class BMW:\n",
        "    #class attributes (5asa b class)\n",
        "    color = 'red'\n",
        "    MODEL = 2022\n",
        "    \n",
        "    # methods\n",
        "    \n",
        "    def open_door():\n",
        "        print(\"open door\")\n",
        "    def close_door():\n",
        "        print(\"close door\")\n",
        "# opbject  = copy \n",
        "copy = BMW()\n",
        "\n",
        "print(\"color of BMW car before edit =  \",copy.color)\n",
        "\n",
        "print(\"###################################################\")\n",
        "\n",
        "# instance attribute ( object attribute) (attribute 5asa b object bs)\n",
        "# attribute hyt8ayar fy object bs lakn msh fy class el asasya bt3ty\n",
        "copy.color = \"black\"\n",
        "\n",
        "print(\"color of BMW car before edit =  \",copy.color)\n",
        "\n",
        "copy2 = BMW()\n",
        "\n",
        "print(\"###################################################\")\n",
        "## Guess the output \n",
        "\n",
        "print(\"color of BMW car in object copy2 =  \",copy2.color)"
      ]
    },
    {
      "cell_type": "markdown",
      "metadata": {
        "id": "5db51ba1"
      },
      "source": [
        "# examples of methods "
      ]
    },
    {
      "cell_type": "code",
      "execution_count": null,
      "metadata": {
        "id": "7779c2a8",
        "outputId": "4abb41ff-2e52-4897-d272-9f6c21960fcd"
      },
      "outputs": [
        {
          "ename": "TypeError",
          "evalue": "BMW.open_door() takes 0 positional arguments but 1 was given",
          "output_type": "error",
          "traceback": [
            "\u001b[1;31m---------------------------------------------------------------------------\u001b[0m",
            "\u001b[1;31mTypeError\u001b[0m                                 Traceback (most recent call last)",
            "Cell \u001b[1;32mIn [11], line 15\u001b[0m\n\u001b[0;32m     12\u001b[0m \u001b[38;5;66;03m# opbject  = x \u001b[39;00m\n\u001b[0;32m     13\u001b[0m x \u001b[38;5;241m=\u001b[39m BMW()\n\u001b[1;32m---> 15\u001b[0m \u001b[43mx\u001b[49m\u001b[38;5;241;43m.\u001b[39;49m\u001b[43mopen_door\u001b[49m\u001b[43m(\u001b[49m\u001b[43m)\u001b[49m\n",
            "\u001b[1;31mTypeError\u001b[0m: BMW.open_door() takes 0 positional arguments but 1 was given"
          ]
        }
      ],
      "source": [
        "class BMW:\n",
        "    #attributes\n",
        "    color = 'red'\n",
        "    MODEL = 2022\n",
        "    \n",
        "    # methods\n",
        "    \n",
        "    def open_door():\n",
        "        print(\"open door\")\n",
        "    def close_door():\n",
        "        print(\"close door\")\n",
        "# opbject  = x \n",
        "x = BMW()\n",
        "\n",
        "x.open_door() # error 3shan el object lma at3mlw passing mala2ash argument elly hay7l ma7alw"
      ]
    },
    {
      "cell_type": "code",
      "execution_count": null,
      "metadata": {
        "id": "c8145837",
        "outputId": "eb9a0141-740d-4c8f-ab4f-e39bb8b99046"
      },
      "outputs": [
        {
          "name": "stdout",
          "output_type": "stream",
          "text": [
            "open door\n"
          ]
        }
      ],
      "source": [
        "class BMW:\n",
        "    #attributes\n",
        "    color = 'red'\n",
        "    MODEL = 2022\n",
        "    \n",
        "    # methods\n",
        "    \n",
        "    def open_door(self):\n",
        "        print(\"open door\")\n",
        "    def close_door(self):\n",
        "        print(\"close door\")\n",
        "# opbject  = x \n",
        "x = BMW()\n",
        "\n",
        "x.open_door()"
      ]
    },
    {
      "cell_type": "markdown",
      "metadata": {
        "id": "1388c0b0"
      },
      "source": [
        "# proof that object is main argument of mthods you have ( replace self ) \n",
        "\n",
        "object passing to method functions and replace self by python"
      ]
    },
    {
      "cell_type": "code",
      "execution_count": null,
      "metadata": {
        "id": "32c87bae",
        "outputId": "7ea461c0-a880-434b-9bea-81777d6e84f9"
      },
      "outputs": [
        {
          "name": "stdout",
          "output_type": "stream",
          "text": [
            "<__main__.amit object at 0x0000029785B9AD60>\n",
            "-------------------\n",
            "<__main__.amit object at 0x0000029785B9AD60>\n"
          ]
        }
      ],
      "source": [
        "class amit:\n",
        "    def testt(self):\n",
        "        print(self)\n",
        "        print(\"-------------------\")\n",
        "x = amit() # passing x to self\n",
        "x.testt() # print sotred value of self\n",
        "print(x) # print value of x when it pass to self"
      ]
    },
    {
      "cell_type": "markdown",
      "metadata": {
        "id": "99e49ff9"
      },
      "source": [
        "# constructor \n",
        "\n",
        "### special type of method \n",
        "\n",
        "method btsht8l awl ma y7sal passing ll object to self "
      ]
    },
    {
      "cell_type": "code",
      "execution_count": null,
      "metadata": {
        "id": "4c90c0a1",
        "outputId": "27e8ff9d-bc4e-476f-ca48-c10dceba8540"
      },
      "outputs": [
        {
          "name": "stdout",
          "output_type": "stream",
          "text": [
            "i am constructor method\n"
          ]
        }
      ],
      "source": [
        "class studnet:\n",
        "  \n",
        "    #def student_info(self,name,age):\n",
        "    #    self.name = name\n",
        "    #    self.age = age\n",
        "    #    print('i am {} and i am {} years old'.format(name,age))\n",
        "        \n",
        "    #constructor method\n",
        "    def __init__(self):\n",
        "        print('i am constructor method')\n",
        "            \n",
        "s1 = studnet()\n",
        "#s1.student_info('amit learning',30)\n",
        "#s1.student_info(\"amit\",30)"
      ]
    },
    {
      "cell_type": "markdown",
      "metadata": {
        "id": "909bf1a6"
      },
      "source": [
        "# replace student_info method to construction method"
      ]
    },
    {
      "cell_type": "code",
      "execution_count": null,
      "metadata": {
        "id": "3750bcb7",
        "outputId": "889bacfd-c6e4-4ac7-fe5d-93b9233b1abc"
      },
      "outputs": [
        {
          "name": "stdout",
          "output_type": "stream",
          "text": [
            "i am amit learning and i am 30 years old\n"
          ]
        }
      ],
      "source": [
        "class studnet:\n",
        "    def __init__(self,name,age):\n",
        "        self.name = name\n",
        "        self.age = age\n",
        "        print('i am {} and i am {} years old'.format(name,age))\n",
        "#constructor method   \n",
        "''' \n",
        "    def __init__(slef):\n",
        "        print('i am constructor method')\n",
        "     '''\n",
        "s1 = studnet(\"amit learning\",30)\n",
        "#s1.student_info('amit learning',30)\n",
        "#s1.student_info(\"amit\",30)"
      ]
    },
    {
      "cell_type": "markdown",
      "metadata": {
        "id": "5d9ee8f8"
      },
      "source": [
        "# example 1 OOP\n",
        "\n",
        "1) A3ML barnamg b ast5dam oop bya5od mnk el name bta3 sha5s w bta5od mnk daraga w btdyfha fy list gwa el oop w t7sb el average bta3 drgat el student"
      ]
    },
    {
      "cell_type": "code",
      "execution_count": null,
      "metadata": {
        "id": "9d512e0d",
        "outputId": "81ece462-3710-4639-f935-a960bb904460"
      },
      "outputs": [
        {
          "name": "stdout",
          "output_type": "stream",
          "text": [
            "wlecome amit in the school\n",
            "----------\n",
            "number of marks in list before adding =  []\n",
            "----------\n",
            "number of marks in list after adding =  [40]\n",
            "----------\n",
            "number of marks in list after adding =  [40, 60]\n",
            "----------\n",
            "average of marks =  50.0\n"
          ]
        }
      ],
      "source": [
        "class student:\n",
        "    #constructor\n",
        "    def __init__(self,name):\n",
        "        self.name = name\n",
        "        self.marks = []\n",
        "        print(\"wlecome {} in the school\".format(name))\n",
        "    def add_marks(self,mark):\n",
        "        self.marks.append(mark)\n",
        "    def avg(self):\n",
        "        print(\"average of marks = \",sum(self.marks)/len(self.marks))\n",
        "s1 = student(\"amit\")\n",
        "print(\"-\"*10)\n",
        "print(\"number of marks in list before adding = \",s1.marks)\n",
        "print(\"-\"*10)\n",
        "s1.add_marks(40)\n",
        "print(\"number of marks in list after adding = \",s1.marks)\n",
        "print(\"-\"*10)\n",
        "s1.add_marks(60)\n",
        "print(\"number of marks in list after adding = \",s1.marks)\n",
        "print(\"-\"*10)\n",
        "s1.avg()\n"
      ]
    },
    {
      "cell_type": "markdown",
      "metadata": {
        "id": "ca06b015"
      },
      "source": [
        "# OOP example 2\n",
        "\n",
        "create calculator that add subtract multiply divid and check even or odd numbers using oop"
      ]
    },
    {
      "cell_type": "code",
      "execution_count": null,
      "metadata": {
        "id": "4f352b02",
        "outputId": "8a7dc913-6c68-4cea-a01f-da778174cadf"
      },
      "outputs": [
        {
          "name": "stdout",
          "output_type": "stream",
          "text": [
            "enter your first number5\n",
            "enter your second number4\n",
            "summation =  9\n",
            "subtraction =  1\n",
            "multiplication =  20\n",
            "division =  1.25\n"
          ]
        }
      ],
      "source": [
        "class calculator:\n",
        "    def __init__(self,first_number,second_number):\n",
        "        self.first_number = first_number\n",
        "        self.second_number = second_number\n",
        "    def add(self):\n",
        "        print(\"summation = \",self.first_number + self.second_number)\n",
        "    def subtract(self):\n",
        "        print(\"subtraction = \",self.first_number - self.second_number)\n",
        "    def multiplication(self):\n",
        "        print(\"multiplication = \",self.first_number * self.second_number)\n",
        "    def division(self):\n",
        "        print(\"division = \",self.first_number / self.second_number)\n",
        "\n",
        "n1 = int(input(\"enter your first number: \"))\n",
        "n2 = int(input(\"enter your second number: \"))\n",
        "calc1 = calculator(n1,n2)\n",
        "\n",
        "calc1.add()\n",
        "calc1.subtract()\n",
        "calc1.multiplication()\n",
        "calc1.division()\n",
        "\n"
      ]
    },
    {
      "cell_type": "markdown",
      "metadata": {
        "id": "ffd3f704"
      },
      "source": [
        "# inheritance concept (وراثه)\n",
        "\n",
        "class btwrs haga mn class tnya el attributes bt3tha aw el methods"
      ]
    },
    {
      "cell_type": "markdown",
      "metadata": {
        "id": "9f0cf1de"
      },
      "source": [
        "# without using inheritance\n",
        "\n",
        "3ayz a3ml 2 calculators by3mlw add w multiply bs tany calculator bt3ml add w multiply w power (rakam power rakam)"
      ]
    },
    {
      "cell_type": "code",
      "execution_count": null,
      "metadata": {
        "id": "300737b3",
        "outputId": "9aa262cf-6755-4f07-831e-b726c446a2d4"
      },
      "outputs": [
        {
          "name": "stdout",
          "output_type": "stream",
          "text": [
            "2^3=8\n"
          ]
        }
      ],
      "source": [
        "class calculator1:\n",
        "    def __init__(self,x,y):\n",
        "        self.x = x\n",
        "        self.y = y\n",
        "    def sum(self):\n",
        "        print(\"sum = \",self.x+self.y)\n",
        "    def multiply(self):\n",
        "        print(\"sum = \",self.x*self.y)\n",
        "        \n",
        "class calculator2():\n",
        "    def __init__(self,x,y):\n",
        "        self.x = x\n",
        "        self.y = y\n",
        "    def sum(self):\n",
        "        print(\"sum = \",self.x+self.y)\n",
        "    def multiply(self):\n",
        "        print(\"sum = \",self.x*self.y)\n",
        "    def power(self):\n",
        "        print(f\"{self.x}^{self.y}={pow(self.x,self.y)}\")\n",
        " \n",
        "x = calculator2(2,3)\n",
        "x.power()"
      ]
    },
    {
      "cell_type": "markdown",
      "metadata": {
        "id": "eb2e1367"
      },
      "source": [
        "# using inheritance"
      ]
    },
    {
      "cell_type": "code",
      "execution_count": null,
      "metadata": {
        "id": "cce931ab",
        "outputId": "b7c2ef60-19f2-41c1-efe4-a18d8728e467"
      },
      "outputs": [
        {
          "name": "stdout",
          "output_type": "stream",
          "text": [
            "sum =  5\n"
          ]
        }
      ],
      "source": [
        "class calculator1:\n",
        "    def __init__(self,x,y):\n",
        "        self.x = x\n",
        "        self.y = y\n",
        "    def sum(self):\n",
        "        print(\"sum = \",self.x+self.y)\n",
        "    def multiply(self):\n",
        "        print(\"sum = \",self.x*self.y)\n",
        "# inheritance\n",
        "class calculator2(calculator1):\n",
        "    #delete def __init__(self,x,y):\n",
        "    #delete    self.x = x\n",
        "    #delete    self.y = y\n",
        "    #delete def sum(self):\n",
        "    #delete    print(\"sum = \",self.x+self.y)\n",
        "    #delete def multiply(self):\n",
        "    #delete    print(\"sum = \",self.x*self.y)\n",
        "    def power(self):\n",
        "        print(f\"{self.x}^{self.y}={pow(self.x,self.y)}\")\n",
        " \n",
        "x = calculator2(2,3)\n",
        "x.sum()"
      ]
    },
    {
      "cell_type": "markdown",
      "metadata": {
        "id": "aeb00c63"
      },
      "source": [
        "# inherting class name: ( el class elly btwrs mn class tnya) (calculator2)\n",
        "\n",
        "## 1.child class\n",
        "## 2.Derived class\n",
        "## 3.subclass\n",
        "\n",
        "# inherted class name:( el class elly btwrs mnha)(calculator1)\n",
        "## 1.parent class\n",
        "## 2.base class\n",
        "## 3.super class\n",
        "\n",
        "![image-2.png](attachment:image-2.png)"
      ]
    },
    {
      "cell_type": "markdown",
      "metadata": {
        "id": "81cc599d"
      },
      "source": [
        "# constructor inheritance (super)\n",
        "\n",
        "we use super() function to call methods in parent class \n",
        "\n",
        "\n",
        "lw ana 3ayz awres haga mo3ayana mn class elly bawrs mnha"
      ]
    },
    {
      "cell_type": "code",
      "execution_count": null,
      "metadata": {
        "id": "915967aa",
        "outputId": "d78481d5-2371-4ab7-c412-c29d1feca9c1"
      },
      "outputs": [
        {
          "name": "stdout",
          "output_type": "stream",
          "text": [
            "rex\n",
            "meat\n"
          ]
        }
      ],
      "source": [
        "class Animals(object):\n",
        "    def __init__(self,name):\n",
        "        self.name = name\n",
        "class Dog(Animals):\n",
        "    def __init__(self,name):\n",
        "        super(Dog,self).__init__(name)\n",
        "        self.food = \"meat\"\n",
        "d = Dog(\"rex\")\n",
        "print(d.name)\n",
        "print(d.food)"
      ]
    },
    {
      "cell_type": "markdown",
      "metadata": {
        "id": "340b33d6"
      },
      "source": [
        "# multiple inheritance\n",
        "( ezay ana mmkn awrs mn aktr mn source )\n",
        "\n"
      ]
    },
    {
      "cell_type": "code",
      "execution_count": null,
      "metadata": {
        "id": "14882169",
        "outputId": "15cc6ac2-c8f5-4423-db96-558bab975d52"
      },
      "outputs": [
        {
          "name": "stdout",
          "output_type": "stream",
          "text": [
            "i am in A\n",
            "[<class '__main__.D'>, <class '__main__.B'>, <class '__main__.A'>, <class '__main__.C'>, <class 'object'>]\n"
          ]
        }
      ],
      "source": [
        "class A:\n",
        "    def dothis(self):\n",
        "        print(\"i am in A\")\n",
        "class B(A):\n",
        "    pass\n",
        "class C:\n",
        "    def dothis(self):\n",
        "        print(\"i am in c\")\n",
        "class D(B,C):\n",
        "    pass\n",
        "s = D()\n",
        "s.dothis()\n",
        "# Method Resolution Order (way a programming language resolves a method or attribute.)\n",
        "print(D.mro())"
      ]
    },
    {
      "cell_type": "code",
      "execution_count": null,
      "metadata": {
        "id": "c6cd3767",
        "outputId": "154238ee-6380-404e-8f9f-54c5ac692e3c"
      },
      "outputs": [
        {
          "name": "stdout",
          "output_type": "stream",
          "text": [
            "i am in c\n",
            "[<class '__main__.D'>, <class '__main__.C'>, <class '__main__.B'>, <class '__main__.A'>, <class 'object'>]\n"
          ]
        }
      ],
      "source": [
        "class A:\n",
        "    def dothis(self):\n",
        "        print(\"i am in A\")\n",
        "class B(A):\n",
        "    pass\n",
        "class C:\n",
        "    def dothis(self):\n",
        "        print(\"i am in c\")\n",
        "class D(C,B):\n",
        "    pass\n",
        "s = D()\n",
        "s.dothis()\n",
        "# Method Resolution Order (way a programming language resolves a method or attribute.)\n",
        "print(D.mro())"
      ]
    },
    {
      "cell_type": "markdown",
      "metadata": {
        "id": "0064209e"
      },
      "source": [
        "# Encapsulation\n",
        "\n",
        "### 1.  process which are protective layer ensure access to data is not possible by any code defined outside the class \n",
        "\n",
        "### 2. this mean  Encapsulation provides security by hiding the data from the outside world.\n",
        "\n",
        "### private data inside class :they can be accessed only \n"
      ]
    },
    {
      "cell_type": "code",
      "execution_count": null,
      "metadata": {
        "id": "9485aeb2",
        "outputId": "0865764e-4b56-49aa-f9c8-81c40c3139d9"
      },
      "outputs": [
        {
          "name": "stdout",
          "output_type": "stream",
          "text": [
            "4\n"
          ]
        }
      ],
      "source": [
        "class Rectangle:\n",
        "    __length = 5 # private attribute\n",
        "    __width = 7 # private attribute\n",
        "    height = 4  # public attributes\n",
        "r1 = Rectangle()\n",
        "print(r1.height)\n",
        "#print(r1.width) # error \n",
        "#print(r1.length) # error "
      ]
    },
    {
      "cell_type": "code",
      "execution_count": null,
      "metadata": {
        "id": "e57ab4f7",
        "outputId": "8146b35c-57c6-4099-f1ff-6eb94290fb46"
      },
      "outputs": [
        {
          "name": "stdout",
          "output_type": "stream",
          "text": [
            "4\n",
            "length inside class =  5\n",
            "length inside class =  7\n"
          ]
        }
      ],
      "source": [
        "class Rectangle:\n",
        "    __length = 5 # private attribute\n",
        "    __width = 7 # private attribute\n",
        "    height = 4  # public attributes\n",
        "    def private_variables(self):\n",
        "        self.__length = 5 # private attribute\n",
        "        self.__width = 7 # private attribute\n",
        "        print(\"length inside class = \",self.__length)\n",
        "        print(\"length inside class = \",self.__width)\n",
        "r1 = Rectangle()\n",
        "print(r1.height)\n",
        "r1.private_variables()\n",
        "#print(r1.width) # error \n",
        "#print(r1.length) # error "
      ]
    },
    {
      "cell_type": "markdown",
      "metadata": {
        "id": "9de6090d"
      },
      "source": [
        "# In object-oriented programming, private and protected attributes are access modifiers used to restrict access to class members. Here are the key differences between private and protected attributes:\n",
        "\n",
        "Visibility: Private attributes can only be accessed within the class in which they are defined, while protected attributes can be accessed within the class and any subclass of the class.\n",
        "\n",
        "Name Mangling: In Python, private attributes are \"name-mangled\" by adding two underscores before the attribute name. This makes it harder to accidentally access or modify the attribute from outside the class. Protected attributes are not name-mangled, but by convention, their names are preceded by a single underscore to indicate that they should not be accessed from outside the class.\n",
        "\n",
        "Security: Private attributes provide more security than protected attributes, as they cannot be accessed or modified from outside the class at all. Protected attributes can still be accessed and modified by subclasses or other classes, which could potentially lead to unintended side-effects or security vulnerabilities.\n",
        "\n",
        "Usage: Private attributes are generally used for sensitive data that should not be accessible from outside the class, such as passwords, account numbers, or other private information. Protected attributes are used for data that should not be modified directly from outside the class, but may need to be accessed by subclasses or other classes for inheritance or extension purposes.\n",
        "\n",
        "Here is an example to illustrate the differences between private and protected attributes in Python:"
      ]
    },
    {
      "cell_type": "code",
      "execution_count": null,
      "metadata": {
        "id": "c309fb80"
      },
      "outputs": [],
      "source": [
        "class MyClass:\n",
        "    def __init__(self):\n",
        "        self.__private_attr = \"I am private\"    # private attribute\n",
        "        self._protected_attr = \"I am protected\" # protected attribute\n",
        "    \n",
        "    def get_private_attr(self):\n",
        "        return self.__private_attr\n",
        "    \n",
        "    def get_protected_attr(self):\n",
        "        return self._protected_attr\n",
        "\n",
        "class MySubclass(MyClass):\n",
        "    def print_attributes(self):\n",
        "        print(\"Private attribute:\", self.__private_attr)   # This will raise an AttributeError\n",
        "        print(\"Protected attribute:\", self._protected_attr)\n",
        "\n",
        "obj = MyClass()\n",
        "print(obj.get_private_attr())       # This works, since we are accessing the private attribute from within the class\n",
        "print(obj.get_protected_attr())     # This works, since we are accessing the protected attribute from within the class\n",
        "\n",
        "sub_obj = MySubclass()\n",
        "sub_obj.print_attributes()          # This will raise an AttributeError for the private attribute, but will work for the protected attribute\n"
      ]
    },
    {
      "cell_type": "markdown",
      "metadata": {
        "id": "cbc49e1f"
      },
      "source": [
        "# polymorphism (many shapes)\n",
        "### two classes with same interface (same method name but diffrent in function)"
      ]
    },
    {
      "cell_type": "code",
      "execution_count": null,
      "metadata": {
        "id": "efdba52b",
        "outputId": "9d1a36ad-dfc7-466c-b5e6-de0ae75db9f2"
      },
      "outputs": [
        {
          "name": "stdout",
          "output_type": "stream",
          "text": [
            "5\n",
            "3\n",
            "3\n"
          ]
        }
      ],
      "source": [
        "# len here is method in string class\n",
        "print(len(\"hello\"))\n",
        "# len here is method in tuple class\n",
        "print(len((\"hello\",\"hello\",\"hello\")))\n",
        "# len here is method in list class\n",
        "print(len([\"hello\",\"hello\",\"hello\"]))"
      ]
    }
  ]
}
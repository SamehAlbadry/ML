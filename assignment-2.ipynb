{
 "cells": [
  {
   "cell_type": "markdown",
   "id": "7fab4c1e",
   "metadata": {},
   "source": [
    "# create calculator that can apply this operation in two numbers using opp  \n",
    "\n",
    "1. add \n",
    "2. subtraction \n",
    "3. multiplication \n",
    "4. division \n",
    "5. check even and odd \n",
    "6. factorial \n",
    "7. fibonacii "
   ]
  },
  {
   "cell_type": "code",
   "execution_count": null,
   "id": "98adb11e",
   "metadata": {},
   "outputs": [],
   "source": []
  },
  {
   "cell_type": "markdown",
   "id": "d3793fe1",
   "metadata": {},
   "source": [
    "# create calculator that can apply this operation in two numbers or more using opp  \n",
    "\n",
    "1. add \n",
    "2. subtraction \n",
    "3. multiplication \n",
    "4. division \n",
    "5. check even and odd \n",
    "6. factorial \n",
    "7. fibonacii "
   ]
  },
  {
   "cell_type": "code",
   "execution_count": null,
   "id": "8d141922",
   "metadata": {},
   "outputs": [],
   "source": []
  },
  {
   "cell_type": "markdown",
   "id": "8533a30e",
   "metadata": {},
   "source": [
    "# Task 3: Rectangle class: \n",
    "1. Write a Rectangle class in Python language, allowing you to build a rectangle \n",
    "with length and width attributes.\n",
    "2. Create a Perimeter() method to calculate the perimeter of the rectangle and a Area() method to \n",
    "calculate the area of the rectangle.\n",
    "3. Create a method display() that display the length, width, perimeter and area of an object created \n",
    "using an instantiation on rectangle class.\n",
    "4. Create a Parallelepipede child class inheriting from the Rectangle class and with \n",
    "a height attribute and another Volume() method to calculate the volume of the Parallelepiped"
   ]
  },
  {
   "cell_type": "code",
   "execution_count": null,
   "id": "4ecf1b01",
   "metadata": {},
   "outputs": [],
   "source": []
  }
 ],
 "metadata": {
  "kernelspec": {
   "display_name": "Python 3 (ipykernel)",
   "language": "python",
   "name": "python3"
  },
  "language_info": {
   "codemirror_mode": {
    "name": "ipython",
    "version": 3
   },
   "file_extension": ".py",
   "mimetype": "text/x-python",
   "name": "python",
   "nbconvert_exporter": "python",
   "pygments_lexer": "ipython3",
   "version": "3.10.9"
  }
 },
 "nbformat": 4,
 "nbformat_minor": 5
}

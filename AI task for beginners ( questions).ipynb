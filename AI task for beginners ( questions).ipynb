{
 "cells": [
  {
   "cell_type": "markdown",
   "id": "1c3efb9f",
   "metadata": {},
   "source": [
    "# create comperehinsive list that sum even numbers only from input number to another number and this numbers users will enter it"
   ]
  },
  {
   "cell_type": "code",
   "execution_count": null,
   "id": "5f0fbeee",
   "metadata": {},
   "outputs": [],
   "source": []
  },
  {
   "cell_type": "markdown",
   "id": "b979261a",
   "metadata": {},
   "source": [
    "# Find Largest and Smallest Numbers in a List"
   ]
  },
  {
   "cell_type": "code",
   "execution_count": null,
   "id": "9d45c3ce",
   "metadata": {},
   "outputs": [],
   "source": []
  },
  {
   "cell_type": "markdown",
   "id": "7cd733fe",
   "metadata": {},
   "source": [
    "# Count Occurrences of a Character in a String"
   ]
  },
  {
   "cell_type": "code",
   "execution_count": null,
   "id": "1ad7b19a",
   "metadata": {},
   "outputs": [],
   "source": []
  },
  {
   "cell_type": "markdown",
   "id": "c5b5a3f4",
   "metadata": {},
   "source": [
    "# Find Length of Longest Word in a Sentence"
   ]
  },
  {
   "cell_type": "code",
   "execution_count": null,
   "id": "3ac3c6fc",
   "metadata": {},
   "outputs": [],
   "source": []
  },
  {
   "cell_type": "markdown",
   "id": "4a5b5e7f",
   "metadata": {},
   "source": [
    "# Sort a List of Numbers in Ascending and Descending Order\n"
   ]
  },
  {
   "cell_type": "code",
   "execution_count": null,
   "id": "a5e8e3d9",
   "metadata": {},
   "outputs": [],
   "source": []
  },
  {
   "cell_type": "markdown",
   "id": "05f37913",
   "metadata": {},
   "source": [
    "# Program to remove all duplicates from a list:"
   ]
  },
  {
   "cell_type": "code",
   "execution_count": null,
   "id": "9a540215",
   "metadata": {},
   "outputs": [],
   "source": []
  },
  {
   "cell_type": "markdown",
   "id": "b09ef662",
   "metadata": {},
   "source": [
    "# create calculator the add - subtract - divide - multiply two numbers and can check if number is odd or even"
   ]
  },
  {
   "cell_type": "code",
   "execution_count": null,
   "id": "07bba890",
   "metadata": {},
   "outputs": [],
   "source": []
  }
 ],
 "metadata": {
  "kernelspec": {
   "display_name": "Python 3 (ipykernel)",
   "language": "python",
   "name": "python3"
  },
  "language_info": {
   "codemirror_mode": {
    "name": "ipython",
    "version": 3
   },
   "file_extension": ".py",
   "mimetype": "text/x-python",
   "name": "python",
   "nbconvert_exporter": "python",
   "pygments_lexer": "ipython3",
   "version": "3.9.12"
  }
 },
 "nbformat": 4,
 "nbformat_minor": 5
}
